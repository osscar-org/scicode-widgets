{
 "cells": [
  {
   "cell_type": "raw",
   "id": "0",
   "metadata": {
    "editable": true,
    "raw_mimetype": "text/restructuredtext",
    "slideshow": {
     "slide_type": ""
    },
    "tags": []
   },
   "source": [
    ".. important::\n",
    "   Jupyter widgets cannot be run within in documentation. To be able to interact with the widget you must run a mybinder instance. To run a mybinder instance of this notebook please use this link https://mybinder.org/v2/gh/osscar-org/scicode-widgets/HEAD?labpath=docs%2Fsrc%2Fexercises.ipynb."
   ]
  },
  {
   "cell_type": "markdown",
   "id": "1",
   "metadata": {},
   "source": [
    "# Writing checks"
   ]
  },
  {
   "cell_type": "markdown",
   "id": "2",
   "metadata": {},
   "source": [
    "Checks intention is to give students a way to validate their code solution. The student's code can be validated by providing a list of inputs and references comparing the output of the student's code with the references, or by directy testing certain functional behavior of the code. In cases when reference outputs need to be obfuscated the outputs that are compared can be passed through a _fingerprint_ function. This notebook goes through each of these features and presents an example."
   ]
  },
  {
   "cell_type": "code",
   "execution_count": null,
   "id": "3",
   "metadata": {
    "tags": []
   },
   "outputs": [],
   "source": [
    "from scwidgets import CodeInput, CodeExercise, Check, CheckRegistry\n",
    "\n",
    "import numpy as np "
   ]
  },
  {
   "cell_type": "markdown",
   "id": "4",
   "metadata": {},
   "source": [
    "Similar as for the `ExerciseRegistry` we need to define a `CheckRegistry` that registers the checks for each exercise."
   ]
  },
  {
   "cell_type": "code",
   "execution_count": null,
   "id": "5",
   "metadata": {
    "tags": []
   },
   "outputs": [],
   "source": [
    "check_registry = CheckRegistry()"
   ]
  },
  {
   "cell_type": "markdown",
   "id": "6",
   "metadata": {},
   "source": [
    "## Checks using inputs and output references"
   ]
  },
  {
   "cell_type": "code",
   "execution_count": null,
   "id": "7",
   "metadata": {
    "tags": []
   },
   "outputs": [],
   "source": [
    "def sin(arr):\n",
    "    import numpy as np\n",
    "    return np.cos(arr) # oops! wrong solution\n",
    "\n",
    "\n",
    "check_code_ex = CodeExercise(\n",
    "    exercise_key=\"sinus_with_references_1\",\n",
    "    code=sin,\n",
    "    check_registry=check_registry,\n",
    ")\n",
    "\n",
    "# An assert function returns a string that specifies\n",
    "# the error message to the student, or is empty if the\n",
    "# check passes\n",
    "def my_assert_allclose(outputs, references) -> str:\n",
    "    if not np.allclose(outputs, references):\n",
    "        return \"Your output is not close to the references.\"\n",
    "    else: \n",
    "        return \"\" # We use empty strings means it passes\n",
    "\n",
    "check_registry.add_check(\n",
    "    check_code_ex,\n",
    "    asserts=[\n",
    "        my_assert_allclose\n",
    "    ],\n",
    "    inputs_parameters=[{\"arr\": np.asarray([0., np.pi, 2*np.pi])}],\n",
    "    outputs_references=[(np.asarray([0., 0., 0.]),)]\n",
    ")\n",
    "\n",
    "check_code_ex.run_check()\n",
    "check_code_ex"
   ]
  },
  {
   "cell_type": "markdown",
   "id": "8",
   "metadata": {},
   "source": [
    "Because there are asserts that are repeatedly needed for almost any kind of exercise, we provide of a set of asserts"
   ]
  },
  {
   "cell_type": "code",
   "execution_count": null,
   "id": "9",
   "metadata": {
    "tags": []
   },
   "outputs": [],
   "source": [
    "from scwidgets import (\n",
    "    assert_numpy_allclose,\n",
    "    assert_shape,\n",
    "    assert_type,\n",
    ")\n",
    "\n",
    "def sinus(arr):\n",
    "    import numpy as np\n",
    "    return np.cos(arr) # oops! wrong solution\n",
    "\n",
    "code_input_sinus = CodeInput(sinus)\n",
    "\n",
    "check_code_ex = CodeExercise(\n",
    "    exercise_key=\"sinus_with_references_2\",\n",
    "    code=code_input_sinus,\n",
    "    check_registry=check_registry,\n",
    ")\n",
    "\n",
    "check_registry.add_check(\n",
    "    check_code_ex,\n",
    "    asserts=[\n",
    "        assert_type, # checks if same type as reference values \n",
    "        assert_shape, # checks if same shape as reference values\n",
    "        assert_numpy_allclose, # checks if allclose to reference values\n",
    "    ],\n",
    "    inputs_parameters=[{\"arr\": np.asarray([0., 0.78539816, 1.57079633, 2.35619449, 3.14159265])}],\n",
    "    outputs_references=[(np.asarray([0., 7.07106781e-01, 1.00000000e+00, 7.07106781e-01, 0.]),)]\n",
    ")\n",
    "\n",
    "check_code_ex.run_check()\n",
    "check_code_ex"
   ]
  },
  {
   "cell_type": "code",
   "execution_count": null,
   "id": "10",
   "metadata": {},
   "outputs": [],
   "source": [
    "print(code_input_sinus.full_function_code)"
   ]
  },
  {
   "cell_type": "markdown",
   "id": "11",
   "metadata": {},
   "source": [
    "One can adapt the default arguments by using partial functions"
   ]
  },
  {
   "cell_type": "code",
   "execution_count": null,
   "id": "12",
   "metadata": {
    "tags": []
   },
   "outputs": [],
   "source": [
    "assert_numpy_allclose?"
   ]
  },
  {
   "cell_type": "code",
   "execution_count": null,
   "id": "13",
   "metadata": {
    "tags": []
   },
   "outputs": [],
   "source": [
    "from functools import partial\n",
    "\n",
    "custom_assert_numpy_allclose = partial(assert_numpy_allclose, rtol=1e-7)"
   ]
  },
  {
   "cell_type": "markdown",
   "id": "14",
   "metadata": {},
   "source": [
    "## Testing functional behavior"
   ]
  },
  {
   "cell_type": "code",
   "execution_count": null,
   "id": "15",
   "metadata": {
    "tags": []
   },
   "outputs": [],
   "source": [
    "def sinus(arr):\n",
    "    import numpy as np\n",
    "    return np.cos(arr) # oops! wrong solution\n",
    "\n",
    "code_input_sinus = CodeInput(sinus)\n",
    "\n",
    "check_code_ex = CodeExercise(\n",
    "    exercise_key=\"sinus_functional_behavior\",\n",
    "    code=code_input_sinus,\n",
    "    check_registry=check_registry,\n",
    ")\n",
    "\n",
    "def assert_2pi_periodic() -> str:\n",
    "    out = code_input_sinus.get_function_object()([0, 2*np.pi])\n",
    "    if not np.allclose(out[0], out[1]):\n",
    "        return \"Function is not periodic.\"\n",
    "    return \"\" # empty strings means it passes\n",
    "\n",
    "check_registry.add_check(\n",
    "    check_code_ex,\n",
    "    asserts=[\n",
    "        assert_2pi_periodic,\n",
    "    ]\n",
    ")\n",
    "\n",
    "check_code_ex.run_check()\n",
    "check_code_ex"
   ]
  },
  {
   "cell_type": "markdown",
   "id": "16",
   "metadata": {
    "tags": []
   },
   "source": [
    "## Obfuscating the reference solution with fingerprint"
   ]
  },
  {
   "cell_type": "code",
   "execution_count": null,
   "id": "17",
   "metadata": {
    "tags": []
   },
   "outputs": [],
   "source": [
    "from scwidgets.check import (\n",
    "    assert_equal\n",
    ")\n",
    "\n",
    "def riddle():\n",
    "    \"\"\"\n",
    "    Please return as string the answer to this riddle:\n",
    "    \n",
    "    What has wings but in the air it not swings.\n",
    "    I looked to the north, but it was not worth.\n",
    "    What I am looking for?\n",
    "    \"\"\"\n",
    "    return \"\"\n",
    "code_input_sinus = CodeInput(riddle)\n",
    "\n",
    "check_code_ex = CodeExercise(\n",
    "    exercise_key=\"riddle\",\n",
    "    code=code_input_sinus,\n",
    "    check_registry=check_registry,\n",
    ")\n",
    "\n",
    "#def assert_equal(output, reference):\n",
    "#    return \"\" if output == reference else \"Not correct solution. Hint: it is an animal in the antarctica.\"\n",
    "\n",
    "char_to_num = {char: num for num, char in enumerate(\"abcdefghijklmnopqrmnstuvwxyz\")}\n",
    "def string_to_int(output):\n",
    "    return sum([char_to_num[char] for char in output])\n",
    "\n",
    "check_registry.add_check(\n",
    "    check_code_ex,\n",
    "    asserts=[\n",
    "        assert_equal,\n",
    "    ],\n",
    "    fingerprint = string_to_int,\n",
    "    inputs_parameters=[{}],\n",
    "    outputs_references=[(93,),],\n",
    "    suppress_fingerprint_asserts = True # By default we do not show the error message, since it is confusing with the fingerprint\n",
    ")\n",
    "\n",
    "check_code_ex.run_check()\n",
    "check_code_ex"
   ]
  },
  {
   "cell_type": "markdown",
   "id": "18",
   "metadata": {
    "raw_mimetype": "text/markdown",
    "tags": []
   },
   "source": [
    "### Solution"
   ]
  },
  {
   "cell_type": "code",
   "execution_count": null,
   "id": "19",
   "metadata": {
    "tags": []
   },
   "outputs": [],
   "source": [
    "# Once you enter the solution you can get the reference output with\n",
    "string_to_int(check_code_ex.compute_output_to_check())"
   ]
  },
  {
   "cell_type": "markdown",
   "id": "20",
   "metadata": {},
   "source": [
    "## Checking all widgets"
   ]
  },
  {
   "cell_type": "markdown",
   "id": "21",
   "metadata": {},
   "source": [
    "The check registry also provides the possibility to check all the widgets. "
   ]
  },
  {
   "cell_type": "code",
   "execution_count": null,
   "id": "22",
   "metadata": {
    "tags": []
   },
   "outputs": [],
   "source": [
    "check_registry"
   ]
  },
  {
   "cell_type": "markdown",
   "id": "23",
   "metadata": {},
   "source": [
    "We create a widget that will raise an error to show how this is visualized."
   ]
  },
  {
   "cell_type": "code",
   "execution_count": null,
   "id": "24",
   "metadata": {
    "tags": []
   },
   "outputs": [],
   "source": [
    "def error(arr):\n",
    "    raise ValueError(\"Oops!\")\n",
    "    return arr\n",
    "\n",
    "check_code_ex = CodeExercise(\n",
    "    exercise_key=\"will_raise_error\",\n",
    "    code=error,\n",
    "    check_registry=check_registry,\n",
    ")\n",
    "\n",
    "check_registry.add_check(\n",
    "    check_code_ex,\n",
    "    asserts=[\n",
    "        assert_type,\n",
    "    ],\n",
    "    inputs_parameters=[{\"arr\": np.asarray([1., 2., 3.5])}],\n",
    "    outputs_references=[(np.asarray([1., 2., 3.5]),)]\n",
    ")\n",
    "\n",
    "check_code_ex.run_check()\n",
    "check_code_ex"
   ]
  },
  {
   "cell_type": "code",
   "execution_count": null,
   "id": "25",
   "metadata": {
    "tags": []
   },
   "outputs": [],
   "source": [
    "# For the demo to automatically run we simulate a button press using the private function that should not be used\n",
    "check_registry._check_all_widgets_button.click()"
   ]
  }
 ],
 "metadata": {
  "kernelspec": {
   "display_name": "Python 3 (ipykernel)",
   "language": "python",
   "name": "python3"
  },
  "language_info": {
   "codemirror_mode": {
    "name": "ipython",
    "version": 3
   },
   "file_extension": ".py",
   "mimetype": "text/x-python",
   "name": "python",
   "nbconvert_exporter": "python",
   "pygments_lexer": "ipython3",
   "version": "3.11.10"
  }
 },
 "nbformat": 4,
 "nbformat_minor": 5
}
